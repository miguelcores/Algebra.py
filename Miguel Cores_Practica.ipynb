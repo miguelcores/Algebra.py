{
 "cells": [
  {
   "cell_type": "markdown",
   "metadata": {},
   "source": [
    "# Practica de Algebra lineal\n",
    "\n",
    "### *Nombre*: miguel cores"
   ]
  },
  {
   "cell_type": "markdown",
   "metadata": {},
   "source": [
    "<span style=\"color:blue\">Ejercicio 1:  \n",
    "Usando los procedimientos add y mult_vector_escalar definidos anteriormente, calcular:   \n",
    "{$\\alpha$[1,2]+[3,4] : $\\alpha$$\\in$$\\mathbb{R}$, 0$\\leq$$\\alpha$$\\leq$1, con una precision de dos decimales (para la multiplicación)}</style>"
   ]
  },
  {
   "cell_type": "code",
   "execution_count": 4,
   "metadata": {
    "collapsed": true
   },
   "outputs": [],
   "source": [
    "import numpy as np"
   ]
  },
  {
   "cell_type": "code",
   "execution_count": 35,
   "metadata": {},
   "outputs": [
    {
     "data": {
      "text/plain": [
       "[[3.0, 4.0],\n",
       " [3.0, 4.0],\n",
       " [3.0, 4.0],\n",
       " [3.0, 4.0],\n",
       " [3.0, 4.0],\n",
       " [3.0, 4.0],\n",
       " [3.0, 4.0],\n",
       " [3.0, 4.0],\n",
       " [3.0, 4.0],\n",
       " [3.0, 4.0],\n",
       " [3.0, 4.0],\n",
       " [3.0, 4.0],\n",
       " [3.0, 4.0],\n",
       " [3.0, 4.0],\n",
       " [3.0, 4.0],\n",
       " [3.0, 4.0],\n",
       " [3.0, 4.0],\n",
       " [3.0, 4.0],\n",
       " [3.0, 4.0],\n",
       " [3.0, 4.0],\n",
       " [3.0, 4.0],\n",
       " [3.0, 4.0],\n",
       " [3.0, 4.0],\n",
       " [3.0, 4.0],\n",
       " [3.0, 4.0],\n",
       " [3.0, 4.0],\n",
       " [3.0, 4.0],\n",
       " [3.0, 4.0],\n",
       " [3.0, 4.0],\n",
       " [3.0, 4.0],\n",
       " [3.0, 4.0],\n",
       " [3.0, 4.0],\n",
       " [3.0, 4.0],\n",
       " [3.0, 4.0],\n",
       " [3.0, 4.0],\n",
       " [3.0, 4.0],\n",
       " [3.0, 4.0],\n",
       " [3.0, 4.0],\n",
       " [3.0, 4.0],\n",
       " [3.0, 4.0],\n",
       " [3.0, 4.0],\n",
       " [3.0, 4.0],\n",
       " [3.0, 4.0],\n",
       " [3.0, 4.0],\n",
       " [3.0, 4.0],\n",
       " [3.0, 4.0],\n",
       " [3.0, 4.0],\n",
       " [3.0, 4.0],\n",
       " [3.0, 4.0],\n",
       " [3.0, 4.0],\n",
       " [3.0, 4.0],\n",
       " [3.0, 4.0],\n",
       " [3.0, 4.0],\n",
       " [3.0, 4.0],\n",
       " [3.0, 4.0],\n",
       " [3.0, 4.0],\n",
       " [3.0, 4.0],\n",
       " [3.0, 4.0],\n",
       " [3.0, 4.0],\n",
       " [3.0, 4.0],\n",
       " [3.0, 4.0],\n",
       " [3.0, 4.0],\n",
       " [3.0, 4.0],\n",
       " [3.0, 4.0],\n",
       " [3.0, 4.0],\n",
       " [3.0, 4.0],\n",
       " [3.0, 4.0],\n",
       " [3.0, 4.0],\n",
       " [3.0, 4.0],\n",
       " [3.0, 4.0],\n",
       " [3.0, 4.0],\n",
       " [3.0, 4.0],\n",
       " [3.0, 4.0],\n",
       " [3.0, 4.0],\n",
       " [3.0, 4.0],\n",
       " [3.0, 4.0],\n",
       " [3.0, 4.0],\n",
       " [3.0, 4.0],\n",
       " [3.0, 4.0],\n",
       " [3.0, 4.0],\n",
       " [3.0, 4.0],\n",
       " [3.0, 4.0],\n",
       " [3.0, 4.0],\n",
       " [3.0, 4.0],\n",
       " [3.0, 4.0],\n",
       " [3.0, 4.0],\n",
       " [3.0, 4.0],\n",
       " [3.0, 4.0],\n",
       " [3.0, 4.0],\n",
       " [3.0, 4.0],\n",
       " [3.0, 4.0],\n",
       " [3.0, 4.0],\n",
       " [3.0, 4.0],\n",
       " [3.0, 4.0],\n",
       " [3.0, 4.0],\n",
       " [3.0, 4.0],\n",
       " [3.0, 4.0],\n",
       " [3.0, 4.0],\n",
       " [3.0, 4.0],\n",
       " [3.0, 4.0],\n",
       " [4.0, 6.0]]"
      ]
     },
     "execution_count": 35,
     "metadata": {},
     "output_type": "execute_result"
    }
   ],
   "source": [
    "#def addn(v,w):\n",
    "    #return[v[i]+w[i] for i in range(len(v))]\n",
    "\n",
    "def mult_vector_escalar(alpha,v):   \n",
    "    return [alpha*v[i] for i in range(len(v))]\n",
    "\n",
    "#def calculo(alpha,v,w):\n",
    "    #a='alpha debe estar en el intervalo indicado'\n",
    "    #return addn(mult_vector_escalar(alpha,v), w) if 0<=alpha<=1 else a\n",
    "\n",
    "#print(\"introduzca el valor de alpha que quiera:\")\n",
    "#alpha=input()\n",
    "\n",
    "def add(v,w):\n",
    "    return [v[0]+w[0],v[1]+w[1]]\n",
    "    \n",
    "m=[add(mult_vector_escalar(float(i/100),[float(1),float(2)]),[3,4]) for i in range(101)]\n",
    "\n",
    "m\n",
    "\n",
    "#calculo(alpha,[1,2],[3,4])"
   ]
  },
  {
   "cell_type": "markdown",
   "metadata": {},
   "source": [
    "<span style=\"color:red\"> Queríamos calcularlo para todos los $\\alpha$, no para uno en concreto:  \n",
    "def add(v,w):  \n",
    "    return [v[0]+w[0],v[1]+w[1]]  \n",
    "def mult_vector_escalar(alpha,v):  \n",
    "    return [alpha*v[i] for i in range(len(v))]  \n",
    "[add(mult_vector_escalar(i/100,[1,2]),[3,4]) for i in range(101)]</style>"
   ]
  },
  {
   "cell_type": "markdown",
   "metadata": {},
   "source": [
    "<span style=\"color:blue\">Ejercicio 2:  \n",
    "Mortadelo y Filemón usan como clave el siguiente vector:</style>  \n",
    "> <span style=\"color:blue\">**k**=[0,1,0,0,1,0,1,0,1,0]</style>  \n",
    "\n",
    "<span style=\"color:blue\">Mortadelo quiere enviarle a Filemón el siguiente mensaje:</style>  \n",
    "> <span style=\"color:blue\">**p**=[0,0,0,1,1,1,0,1,0,1]</style>  \n",
    "\n",
    "<span style=\"color:blue\">Mortadelo encripta su mensaje añadiendo k:</style>  \n",
    "> <span style=\"color:blue\">**c**=**p**+**k**=[0,0,0,1,1,1,0,1,0,1]+[0,1,0,0,1,0,1,0,1,0]=[0,1,0,1,0,1,1,1,1,1]</style>  \n",
    "\n",
    "<span style=\"color:blue\">Cuando Filemón recibe el mensaje, lo desencripta añadiendo **k** a lo que ha recibido</style>  \n",
    "> <span style=\"color:blue\">**p**=**c**+**k**=[0,1,0,1,0,1,1,1,1,1]+[0,1,0,0,1,0,1,0,1,0]=[0,0,0,1,1,1,0,1,0,1]</style>    \n",
    "\n",
    "<span style=\"color:blue\">que es el mensaje original</style>    \n",
    "  \n",
    " <span style=\"color:blue\">¿Cómo lo harías en Python? (Definiendo un procedimiento)</style>  "
   ]
  },
  {
   "cell_type": "code",
   "execution_count": 65,
   "metadata": {},
   "outputs": [
    {
     "data": {
      "text/plain": [
       "[0, 0, 0, 1, 1, 1, 0, 1, 0, 1]"
      ]
     },
     "execution_count": 65,
     "metadata": {},
     "output_type": "execute_result"
    }
   ],
   "source": [
    "k=[0,1,0,0,1,0,1,0,1,0]\n",
    "p=[0,0,0,1,1,1,0,1,0,1]\n",
    "c=[0,1,0,1,0,1,1,1,1,1]\n",
    "\n",
    "def suma_gf2(m,n):\n",
    "    l=addn(m,n)\n",
    "    for i in range(len(l)):\n",
    "        if ((l[i]==0) | (l[i]==2)):\n",
    "            l[i]=0\n",
    "        else:\n",
    "            l[i]=1\n",
    "    return l\n",
    "\n",
    "suma_gf2(c,k)"
   ]
  },
  {
   "cell_type": "markdown",
   "metadata": {},
   "source": [
    "<span style=\"color:blue\">Ejercicio 3: coste total o beneficio. </style>\n",
    "\n",
    "<span style=\"color:blue\">Supongamos que D es el conjunto de algunos ingredientes de la cerveza: </style>\n",
    "> <span style=\"color:blue\">D={lúpulo, malta, agua, levadura}</style>  \n",
    "\n",
    "<span style=\"color:blue\">Por otro lado tenemos el vector coste:</style>  \n",
    "> <span style=\"color:blue\">coste={lúpulo: 2,5€, malta: 1.5€, agua: 0.006€, levadura: 0,45€}</style>  \n",
    "\n",
    "<span style=\"color:blue\">Por último tenemos el vector cantidad con lo necesario para hacer una cerveza:</style>  \n",
    "> <span style=\"color:blue\">cantidad={lúpulo: 6u, malta: 14u, agua: 7u, levadura: 11u}</style>  \n",
    "\n",
    "<span style=\"color:blue\">¿Cuánto cuesta hacer una cerveza?</style> "
   ]
  },
  {
   "cell_type": "code",
   "execution_count": 21,
   "metadata": {},
   "outputs": [
    {
     "data": {
      "text/plain": [
       "'el coste de la cerveza sera: 40.992 euros'"
      ]
     },
     "execution_count": 21,
     "metadata": {},
     "output_type": "execute_result"
    }
   ],
   "source": [
    "def producto_escalar(u,v):\n",
    "    return sum(u[i]*v[i] for i in range(len(v)))\n",
    "\n",
    "coste = [2.5, 1.5,.006,.45]\n",
    "cantidad = [6,14,7,11]\n",
    "coste_cerveza = producto_escalar(coste,cantidad)\n",
    "\n",
    "\"el coste de la cerveza sera: \"+str(coste_cerveza)+\" euros\""
   ]
  },
  {
   "cell_type": "markdown",
   "metadata": {},
   "source": [
    "<span style=\"color:blue\"> Ejercicio 4:   \n",
    "¿Cómo escribirías cada uno de los vectores {[3,0,0],[0,2,0],[0,0,1]} como combinación lineal de {[2,0,1],[1,0,2],[2,2,2]}?\n",
    "Escribe las combinaciones lineales en Python. Seguramente tenga que definir una nueva suma.</style>"
   ]
  },
  {
   "cell_type": "code",
   "execution_count": 62,
   "metadata": {},
   "outputs": [
    {
     "data": {
      "text/plain": [
       "matrix([[ 2.],\n",
       "        [-1.],\n",
       "        [-1.]])"
      ]
     },
     "execution_count": 62,
     "metadata": {},
     "output_type": "execute_result"
    }
   ],
   "source": [
    "A = np.matrix([\n",
    "    [2,0,1],\n",
    "    [1,0,2],\n",
    "    [2,2,2]\n",
    "])\n",
    "\n",
    "B = np.matrix(\n",
    "    [[3],\n",
    "     [0],\n",
    "     [0]]\n",
    ")\n",
    "\n",
    "X = np.linalg.solve(A, B)\n",
    "X"
   ]
  },
  {
   "cell_type": "code",
   "execution_count": 64,
   "metadata": {},
   "outputs": [
    {
     "data": {
      "text/plain": [
       "matrix([[-0.66666667],\n",
       "        [-0.66666667],\n",
       "        [ 1.33333333]])"
      ]
     },
     "execution_count": 64,
     "metadata": {},
     "output_type": "execute_result"
    }
   ],
   "source": [
    "A = np.matrix([\n",
    "    [2,0,1],\n",
    "    [1,0,2],\n",
    "    [2,2,2]\n",
    "])\n",
    "\n",
    "B = np.matrix(\n",
    "    [[0],\n",
    "     [2],\n",
    "     [0]]\n",
    ")\n",
    "\n",
    "X = np.linalg.solve(A, B)\n",
    "X"
   ]
  },
  {
   "cell_type": "code",
   "execution_count": 63,
   "metadata": {},
   "outputs": [
    {
     "data": {
      "text/plain": [
       "matrix([[ 0.66666667],\n",
       "        [-0.33333333],\n",
       "        [ 0.66666667]])"
      ]
     },
     "execution_count": 63,
     "metadata": {},
     "output_type": "execute_result"
    }
   ],
   "source": [
    "A = np.matrix([\n",
    "    [2,0,1],\n",
    "    [1,0,2],\n",
    "    [2,2,2]\n",
    "])\n",
    "\n",
    "B = np.matrix(\n",
    "    [[2],\n",
    "     [2],\n",
    "     [2]]\n",
    ")\n",
    "\n",
    "X = np.linalg.solve(A, B)\n",
    "X"
   ]
  },
  {
   "cell_type": "markdown",
   "metadata": {},
   "source": [
    "<span style=\"color:blue\"> Ejercicio 5:  \n",
    "Dadas las matrices $\n",
    "  A=\n",
    "  \\left[ {\\begin{array}{cc}\n",
    "   2 & -3 \\\\\n",
    "   -4 & 6\\\\\n",
    "  \\end{array} } \\right]\n",
    "$ , $\n",
    "  B=\n",
    "  \\left[ {\\begin{array}{cc}\n",
    "   8 & 4 \\\\\n",
    "   5 & 5\\\\\n",
    "  \\end{array} } \\right]\n",
    "$\n",
    "y $\n",
    "  C=\n",
    "  \\left[ {\\begin{array}{cc}\n",
    "   5 & -2 \\\\\n",
    "   3 & 1\\\\\n",
    "  \\end{array} } \\right]\n",
    "$, queremos verificar que AB=AC pero que B≠C.</style> "
   ]
  },
  {
   "cell_type": "code",
   "execution_count": 74,
   "metadata": {},
   "outputs": [
    {
     "data": {
      "text/plain": [
       "matrix([[ True,  True],\n",
       "        [ True,  True]], dtype=bool)"
      ]
     },
     "execution_count": 74,
     "metadata": {},
     "output_type": "execute_result"
    }
   ],
   "source": [
    "A=np.matrix([\n",
    "    [2,-3],\n",
    "    [-4,6]\n",
    "])\n",
    "B=np.matrix([\n",
    "    [8,4],\n",
    "    [5,5]\n",
    "])\n",
    "C=np.matrix([\n",
    "    [5,-2],\n",
    "    [3,1]\n",
    "])\n",
    "A*B==A*C"
   ]
  },
  {
   "cell_type": "code",
   "execution_count": 75,
   "metadata": {},
   "outputs": [
    {
     "data": {
      "text/plain": [
       "matrix([[False, False],\n",
       "        [False, False]], dtype=bool)"
      ]
     },
     "execution_count": 75,
     "metadata": {},
     "output_type": "execute_result"
    }
   ],
   "source": [
    "B==C"
   ]
  },
  {
   "cell_type": "markdown",
   "metadata": {},
   "source": [
    "<span style=\"color:blue\"> Ejercicio 6 :  \n",
    "Dadas la matriz $\n",
    "  A=\n",
    "  \\left[ {\\begin{array}{cc}\n",
    "   3 & -6 \\\\\n",
    "   -1 & 2\\\\\n",
    "  \\end{array} } \\right]\n",
    "$ , construye una matriz B de 2 × 2 tal que AB sea igual a la matriz cero. Las columnas de B no deben ser iguales entre sí y deben ser distintas de cero.\n",
    ".</style> "
   ]
  },
  {
   "cell_type": "code",
   "execution_count": 82,
   "metadata": {},
   "outputs": [
    {
     "data": {
      "text/plain": [
       "matrix([[0, 0],\n",
       "        [0, 0]])"
      ]
     },
     "execution_count": 82,
     "metadata": {},
     "output_type": "execute_result"
    }
   ],
   "source": [
    "A=np.matrix([\n",
    "    [3,-6],\n",
    "    [-1,2]\n",
    "])\n",
    "\n",
    "B=np.matrix([\n",
    "    [2,-4],\n",
    "    [1,-2]\n",
    "])\n",
    "\n",
    "A*B"
   ]
  },
  {
   "cell_type": "markdown",
   "metadata": {},
   "source": [
    "<span style=\"color:blue\"> Ejercicio 7:  \n",
    "Sarrus para el determinante de orden 3.  \n",
    "¿Cómo lo haríamos en Python?</style>"
   ]
  },
  {
   "cell_type": "code",
   "execution_count": 56,
   "metadata": {
    "collapsed": true
   },
   "outputs": [],
   "source": [
    "A=np.matrix([\n",
    "    [1,2,3],\n",
    "    [3,2,1],\n",
    "    [4,5,6]\n",
    "])"
   ]
  },
  {
   "cell_type": "code",
   "execution_count": 9,
   "metadata": {},
   "outputs": [
    {
     "name": "stdout",
     "output_type": "stream",
     "text": [
      "('Determinante = ', 15)\n"
     ]
    }
   ],
   "source": [
    "A=np.matrix([\n",
    "[1,-4,2],\n",
    "[-2,8,-9],\n",
    "[-1,7,0]\n",
    "])\n",
    "x = 0\n",
    "y = 0\n",
    "for i in range (0,3):\n",
    "    \n",
    "    x = x + (A[0,i])*(A[1,(i+1)%3])*(A[2,(i+2)%3])\n",
    "    y = y + (A[2,i])*(A[1,(i+1)%3])*(A[0,(i+2)%3])\n",
    "print (\"Determinante = \", x-y)"
   ]
  },
  {
   "cell_type": "markdown",
   "metadata": {},
   "source": [
    "<span style=\"color:blue\"> Ejercicio 8:  \n",
    "Sabemos que hay un modo directo en Python para calcular los rangos. Calcula el número de soluciones de estos tres sistemas de ecuaciones empleándolo.</style> "
   ]
  },
  {
   "cell_type": "markdown",
   "metadata": {},
   "source": [
    "> <span style=\"color:blue\">x<sub>1</sub> − 2x<sub>2</sub> + x<sub>3</sub> = 0 </style>  \n",
    "> <span style=\"color:blue\">2x<sub>2</sub>−8x<sub>3</sub>= 8  </style>  \n",
    "> <span style=\"color:blue\">−4x<sub>1</sub> + 5x<sub>2</sub> + 9x<sub>3</sub> =− 9</style>"
   ]
  },
  {
   "cell_type": "code",
   "execution_count": 9,
   "metadata": {},
   "outputs": [
    {
     "data": {
      "text/plain": [
       "3"
      ]
     },
     "execution_count": 9,
     "metadata": {},
     "output_type": "execute_result"
    }
   ],
   "source": [
    "M=np.matrix([\n",
    "    [1,-2,1],\n",
    "    [0,2,-8],\n",
    "    [-4,5,9]\n",
    "])\n",
    "np.linalg.matrix_rank(M)"
   ]
  },
  {
   "cell_type": "code",
   "execution_count": 5,
   "metadata": {},
   "outputs": [
    {
     "data": {
      "text/plain": [
       "'Al tener rango 3 y el sistema tendra una unica solucion'"
      ]
     },
     "execution_count": 5,
     "metadata": {},
     "output_type": "execute_result"
    }
   ],
   "source": [
    "'Al tener rango 3 y el sistema tendra una unica solucion'"
   ]
  },
  {
   "cell_type": "markdown",
   "metadata": {},
   "source": [
    "> <span style=\"color:blue\">x<sub>2</sub> −4x<sub>3</sub> =8  </style>  \n",
    "> <span style=\"color:blue\">2x<sub>1</sub> −3x<sub>2</sub> + 2x<sub>3</sub> =1  </style>  \n",
    "> <span style=\"color:blue\">5x<sub>1</sub> −8x<sub>2</sub> + 7x<sub>3</sub> =1</style>"
   ]
  },
  {
   "cell_type": "code",
   "execution_count": 10,
   "metadata": {},
   "outputs": [
    {
     "data": {
      "text/plain": [
       "2"
      ]
     },
     "execution_count": 10,
     "metadata": {},
     "output_type": "execute_result"
    }
   ],
   "source": [
    "M=np.matrix([\n",
    "    [0,1,-4],\n",
    "    [2,-3,2],\n",
    "    [5,-8,7]\n",
    "])\n",
    "np.linalg.matrix_rank(M)"
   ]
  },
  {
   "cell_type": "code",
   "execution_count": 11,
   "metadata": {},
   "outputs": [
    {
     "data": {
      "text/plain": [
       "3"
      ]
     },
     "execution_count": 11,
     "metadata": {},
     "output_type": "execute_result"
    }
   ],
   "source": [
    "M=np.matrix([\n",
    "    [8,1,-4],\n",
    "    [1,-3,2],\n",
    "    [1,-8,7]\n",
    "])\n",
    "np.linalg.matrix_rank(M)"
   ]
  },
  {
   "cell_type": "code",
   "execution_count": 13,
   "metadata": {},
   "outputs": [
    {
     "data": {
      "text/plain": [
       "'Al tener la ampliada rango 3 y M rango 2 el sistema no tendra solucion'"
      ]
     },
     "execution_count": 13,
     "metadata": {},
     "output_type": "execute_result"
    }
   ],
   "source": [
    "'Al tener la ampliada rango 3 y M rango 2 el sistema no tendra solucion'"
   ]
  },
  {
   "cell_type": "markdown",
   "metadata": {},
   "source": []
  },
  {
   "cell_type": "markdown",
   "metadata": {},
   "source": [
    "> <span style=\"color:blue\">x<sub>1</sub> +x<sub>3</sub> =2  </style>  \n",
    "> <span style=\"color:blue\">2x<sub>1</sub> +3x<sub>2</sub> + x<sub>3</sub> =3  </style>  \n",
    "> <span style=\"color:blue\">3x<sub>1</sub> +3x<sub>2</sub> + 2x<sub>3</sub> =5</style>"
   ]
  },
  {
   "cell_type": "code",
   "execution_count": 14,
   "metadata": {},
   "outputs": [
    {
     "data": {
      "text/plain": [
       "2"
      ]
     },
     "execution_count": 14,
     "metadata": {},
     "output_type": "execute_result"
    }
   ],
   "source": [
    "M=np.matrix([\n",
    "    [1,0,1],\n",
    "    [2,3,1],\n",
    "    [3,3,2]\n",
    "])\n",
    "np.linalg.matrix_rank(M)"
   ]
  },
  {
   "cell_type": "code",
   "execution_count": 17,
   "metadata": {},
   "outputs": [
    {
     "data": {
      "text/plain": [
       "2"
      ]
     },
     "execution_count": 17,
     "metadata": {},
     "output_type": "execute_result"
    }
   ],
   "source": [
    "M_1=np.matrix([\n",
    "    [1,0,2],\n",
    "    [2,3,3],\n",
    "    [3,3,5]\n",
    "])\n",
    "np.linalg.matrix_rank(M_1)"
   ]
  },
  {
   "cell_type": "code",
   "execution_count": 18,
   "metadata": {},
   "outputs": [
    {
     "data": {
      "text/plain": [
       "2"
      ]
     },
     "execution_count": 18,
     "metadata": {},
     "output_type": "execute_result"
    }
   ],
   "source": [
    "M_2=np.matrix([\n",
    "    [2,0,1],\n",
    "    [3,3,1],\n",
    "    [5,3,2]\n",
    "])\n",
    "np.linalg.matrix_rank(M_2)"
   ]
  },
  {
   "cell_type": "markdown",
   "metadata": {},
   "source": [
    "M_3=np.matrix([\n",
    "    [1,2,1],\n",
    "    [2,3,1],\n",
    "    [3,5,2]\n",
    "])\n",
    "np.linalg.matrix_rank(M_3)"
   ]
  },
  {
   "cell_type": "code",
   "execution_count": 20,
   "metadata": {},
   "outputs": [
    {
     "data": {
      "text/plain": [
       "'Como la ampliada y M tienen igual rango 2 que es menor que el numero de variables el sistema tendra infinito numero de soluciones'"
      ]
     },
     "execution_count": 20,
     "metadata": {},
     "output_type": "execute_result"
    }
   ],
   "source": [
    "'Como la ampliada y M tienen igual rango 2 que es menor que el numero de variables el sistema tendra infinito numero de soluciones'"
   ]
  },
  {
   "cell_type": "markdown",
   "metadata": {},
   "source": []
  },
  {
   "cell_type": "markdown",
   "metadata": {},
   "source": [
    "<span style=\"color:blue\"> Ejercicio 9:  \n",
    "Comprobar que r(x,y) para un ángulo $\\theta$ es una función lineal.</style> "
   ]
  },
  {
   "cell_type": "markdown",
   "metadata": {},
   "source": [
    "<span style=\"color:black\"> r([x , y ]) = M ∗ [x , y ] con $\n",
    "  M =\n",
    "  \\left[ {\\begin{array}{cc}\n",
    "   cos\\theta & -sin\\theta \\\\\n",
    "   sin\\theta & cos\\theta \\\\\n",
    "  \\end{array} } \\right]\n",
    "$.  \n",
    "Luego r(x,y)=(xcos$\\theta$-xsin$\\theta$,ysin$\\theta$+ycos$\\theta$)</style> \n",
    "* <span style=\"color:black\">r($\\alpha$x,$\\alpha$y)=($\\alpha$xcos$\\theta$-$\\alpha$xsin$\\theta$,$\\alpha$ysin$\\theta$+$\\alpha$ycos$\\theta$)=$\\alpha$((xcos$\\theta$-xsin$\\theta$,ysin$\\theta$+ycos$\\theta$)=$\\alpha$r(x,y)</style>  \n",
    "* <span style=\"color:black\">r[(x<sub>1</sub>,y<sub>1</sub>),(x<sub>2</sub>,y<sub>2</sub>)]=r(x<sub>1</sub>+x<sub>2</sub>,y<sub>1</sub>+y<sub>2</sub>)=[(x<sub>1</sub>+x<sub>2</sub>)cos$\\theta$-(x<sub>1</sub>+x<sub>2</sub>)sin$\\theta$,(y<sub>1</sub>+y<sub>2</sub>)sin$\\theta$+(y<sub>1</sub>+y<sub>2</sub>)cos$\\theta$]=(x<sub>1</sub>cos$\\theta$+x<sub>2</sub>cos$\\theta$-x<sub>1</sub>sin$\\theta$-x<sub>2</sub>sin$\\theta$,y<sub>1</sub>sin$\\theta$+y<sub>2</sub>sin$\\theta$+y<sub>1</sub>cos$\\theta$+y<sub>2</sub>cos$\\theta$)=(x<sub>1</sub>cos$\\theta$-x<sub>1</sub>sin$\\theta$,y<sub>1</sub>sin$\\theta$+y<sub>1</sub>cos$\\theta$) +(x<sub>2</sub>cos$\\theta$-x<sub>2</sub>sin$\\theta$,y<sub>2</sub>sin$\\theta$+y<sub>2</sub>cos$\\theta$)=r(x<sub>1</sub>,y<sub>1</sub>)+r(x<sub>2</sub>,y<sub>2</sub>) </style>  "
   ]
  },
  {
   "cell_type": "code",
   "execution_count": 51,
   "metadata": {},
   "outputs": [
    {
     "data": {
      "text/plain": [
       "matrix([[ 0.,  1.],\n",
       "        [-1.,  0.]])"
      ]
     },
     "execution_count": 51,
     "metadata": {},
     "output_type": "execute_result"
    }
   ],
   "source": [
    "'vamos a hacer la prueba para un angulo O=90º, que tendria por M la siguiente matriz'\n",
    "M=np.matrix([\n",
    "    [round(np.cos(np.pi/2)),round(np.sin(np.pi/2))],\n",
    "    [round(-np.sin(np.pi/2)),round(np.cos(np.pi/2))]\n",
    "])\n",
    "v=np.matrix([\n",
    "    [1],\n",
    "    [2]\n",
    "])\n",
    "u=np.matrix([\n",
    "    [3],\n",
    "    [3]\n",
    "])\n",
    "M"
   ]
  },
  {
   "cell_type": "markdown",
   "metadata": {},
   "source": [
    "Comprobamos 1a propiedad: r(α(x,y)) = αf((x,y)), donde r(x,y)=M*[x,y] y [x,y]=v"
   ]
  },
  {
   "cell_type": "code",
   "execution_count": 48,
   "metadata": {},
   "outputs": [
    {
     "data": {
      "text/plain": [
       "matrix([[ True],\n",
       "        [ True]], dtype=bool)"
      ]
     },
     "execution_count": 48,
     "metadata": {},
     "output_type": "execute_result"
    }
   ],
   "source": [
    "2*M*v==M*(2*v)"
   ]
  },
  {
   "cell_type": "markdown",
   "metadata": {},
   "source": [
    "Comprobamos 2a propiedad r (u + v) = r (u) + r (v), donde v y r igual que antes y u = [3,3]"
   ]
  },
  {
   "cell_type": "code",
   "execution_count": 53,
   "metadata": {},
   "outputs": [
    {
     "data": {
      "text/plain": [
       "matrix([[ True],\n",
       "        [ True]], dtype=bool)"
      ]
     },
     "execution_count": 53,
     "metadata": {},
     "output_type": "execute_result"
    }
   ],
   "source": [
    "u_v=u+v\n",
    "M*u_v == M*u + M*v"
   ]
  },
  {
   "cell_type": "markdown",
   "metadata": {},
   "source": [
    "<span style=\"color:blue\"> Ejercicio 10:  \n",
    "¿Cuál es la representación coordenada del vector v= [6, 3, 2, 5] en términos de los vectores [2, 2, 2, 3], [1, 0, −1, 0], [0, 1, 0, 1]?</style> "
   ]
  },
  {
   "cell_type": "code",
   "execution_count": 11,
   "metadata": {},
   "outputs": [
    {
     "name": "stdout",
     "output_type": "stream",
     "text": [
      "La representación de v en términos de los vectores dados es [[ 2.  2. -1.]]\n"
     ]
    },
    {
     "data": {
      "text/plain": [
       "matrix([[ 6.],\n",
       "        [ 3.],\n",
       "        [ 2.],\n",
       "        [ 5.]])"
      ]
     },
     "execution_count": 11,
     "metadata": {},
     "output_type": "execute_result"
    }
   ],
   "source": [
    "A=np.matrix([\n",
    "[2, 1, 0],\n",
    "[2, 0, 1],\n",
    "[2, -1, 0],\n",
    "[3, 0, 1]\n",
    "])\n",
    "B=np.matrix([\n",
    "[6],\n",
    "[3],\n",
    "[2],\n",
    "[5]\n",
    "])\n",
    "C=np.linalg.lstsq(A,B)[0]\n",
    "print(\"La representación de v en términos de los vectores dados es {}\".format(np.transpose(C)))\n",
    "A*C"
   ]
  },
  {
   "cell_type": "markdown",
   "metadata": {},
   "source": [
    "<span style=\"color:blue\"> Ejercicio 11:  \n",
    "Supongamos que queremos diseñar la red de internet para el otro campus universitario.  \n",
    "La red debe lograr la misma conectividad que el grafo de entrada.  \n",
    "Una arista representa un posible cable.  \n",
    "El peso de la arista es el coste de instalar el cable.  \n",
    "Nuestro objetivo es minimizar el coste total, usando el algoritmo Grow y el algoritmo Shrink.  </style> "
   ]
  },
  {
   "cell_type": "markdown",
   "metadata": {},
   "source": [
    "'Algoritmo de grow' "
   ]
  },
  {
   "cell_type": "markdown",
   "metadata": {},
   "source": [
    "\n",
    "'Consideramos cada camino de forma ascendente: Bio-Med.Pembroke Campus, Pembroke Cmapus.Athletic Complex, Athletic Complex.Bio-Med' "
   ]
  },
  {
   "cell_type": "markdown",
   "metadata": {},
   "source": [
    "'Concluimos que la red tiene que ser: Bio-Med.Pembroke Campus, Pembroke Campus.Athletic Complex'"
   ]
  },
  {
   "cell_type": "markdown",
   "metadata": {},
   "source": [
    "'Algoritmo de Shrink'"
   ]
  },
  {
   "cell_type": "markdown",
   "metadata": {},
   "source": [
    "'Quitamos de forma descendiente y queda el mismo resultado nada mas quitar la arista de mas peso'"
   ]
  },
  {
   "cell_type": "markdown",
   "metadata": {},
   "source": [
    "<span style=\"color:blue\"> Ejercicio 12:  \n",
    "Sea la matriz $\n",
    "  M=\n",
    "  \\left[ {\\begin{array}{cc}\n",
    "   1 & 0  & 0 & 5 \\\\\n",
    "   0 & 2  & 0 & 7 \\\\\n",
    "   0 & 0  & 3 & 9 \\\\\n",
    "  \\end{array} } \\right]\n",
    "$. Calcular el rango por filas y por columnas usando Python.</style> "
   ]
  },
  {
   "cell_type": "code",
   "execution_count": 122,
   "metadata": {},
   "outputs": [
    {
     "data": {
      "text/plain": [
       "3"
      ]
     },
     "execution_count": 122,
     "metadata": {},
     "output_type": "execute_result"
    }
   ],
   "source": [
    "M=([\n",
    "    [1,0,0,5],\n",
    "    [0,2,0,7],\n",
    "    [0,0,3,9]\n",
    "])\n",
    "rangoM=np.linalg.matrix_rank(M)\n",
    "rangoM"
   ]
  },
  {
   "cell_type": "code",
   "execution_count": 123,
   "metadata": {},
   "outputs": [
    {
     "data": {
      "text/plain": [
       "3"
      ]
     },
     "execution_count": 123,
     "metadata": {},
     "output_type": "execute_result"
    }
   ],
   "source": [
    "MT=np.transpose(M)\n",
    "rangoMT=np.linalg.matrix_rank(MT)\n",
    "rangoMT"
   ]
  },
  {
   "cell_type": "markdown",
   "metadata": {
    "collapsed": true
   },
   "source": [
    "<span style=\"color:blue\"> Ejercicio 13 (opcional):  \n",
    "Crea un algoritmo que transforme una matriz cualquiera en GF(2) en una matriz escalonada.</style> "
   ]
  },
  {
   "cell_type": "code",
   "execution_count": null,
   "metadata": {
    "collapsed": true
   },
   "outputs": [],
   "source": []
  },
  {
   "cell_type": "markdown",
   "metadata": {},
   "source": [
    "<span style=\"color:blue\"> Ejercicio 14:  \n",
    "Modificar lo necesario en los algoritmos para que funcionen y calculen el problema de la casa en llamas.</style>"
   ]
  },
  {
   "cell_type": "code",
   "execution_count": 2,
   "metadata": {},
   "outputs": [
    {
     "data": {
      "text/plain": [
       "array([[-1.,  3.]])"
      ]
     },
     "execution_count": 2,
     "metadata": {},
     "output_type": "execute_result"
    }
   ],
   "source": [
    "import numpy as np\n",
    "\n",
    "def p_e(a,b):\n",
    "    return float(sum(sum(a*b)))\n",
    "\n",
    "def proyeccion_paralela(b, a):\n",
    "    sigma = p_e(b,a)/p_e(a,a) if (p_e(a,a) > 10^-20) else 0\n",
    "    return [sigma * a[i] for i in range(len(a))]\n",
    "\n",
    "def proyeccion_ortogonal(b, a):\n",
    "    return b - proyeccion_paralela(b, a)\n",
    "\n",
    "a=np.array([\n",
    "    [6,2]\n",
    "])\n",
    "b=np.array([\n",
    "    [2,4]\n",
    "])\n",
    "\n",
    "proyeccion_ortogonal(b,a)"
   ]
  },
  {
   "cell_type": "code",
   "execution_count": null,
   "metadata": {
    "collapsed": true
   },
   "outputs": [],
   "source": []
  }
 ],
 "metadata": {
  "kernelspec": {
   "display_name": "Python 2",
   "language": "python",
   "name": "python2"
  },
  "language_info": {
   "codemirror_mode": {
    "name": "ipython",
    "version": 2
   },
   "file_extension": ".py",
   "mimetype": "text/x-python",
   "name": "python",
   "nbconvert_exporter": "python",
   "pygments_lexer": "ipython2",
   "version": "2.7.14"
  }
 },
 "nbformat": 4,
 "nbformat_minor": 2
}
